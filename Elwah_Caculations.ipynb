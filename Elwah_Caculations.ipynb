{
 "cells": [
  {
   "cell_type": "code",
   "execution_count": 2,
   "metadata": {},
   "outputs": [],
   "source": [
    "import numpy as np\n",
    "import pandas as pd\n",
    "import geopandas as gpd\n",
    "import gdal"
   ]
  },
  {
   "cell_type": "code",
   "execution_count": 25,
   "metadata": {},
   "outputs": [],
   "source": [
    "fields = ['XLONG', 'XLAT', '12/14/2015 12:00']\n",
    "df_temp = pd.read_csv('C:/Users/Andrew/Downloads/OLYMPEX.WRF_Master.Elwha_Surface.Temp.csv', usecols= fields)\n",
    "gdf_temp = gpd.GeoDataFrame(df_temp, crs= 'EPSG:4326', geometry = gpd.points_from_xy(df_precip.XLONG, df_precip.XLAT))\n",
    "gdf_temp.to_file(\"c:/Users/Andrew/Downloads/Elwha_top5/temp/12.14.2015_12.00.shp\")"
   ]
  },
  {
   "cell_type": "code",
   "execution_count": null,
   "metadata": {},
   "outputs": [],
   "source": []
  }
 ],
 "metadata": {
  "kernelspec": {
   "display_name": "Python 3",
   "language": "python",
   "name": "python3"
  },
  "language_info": {
   "codemirror_mode": {
    "name": "ipython",
    "version": 3
   },
   "file_extension": ".py",
   "mimetype": "text/x-python",
   "name": "python",
   "nbconvert_exporter": "python",
   "pygments_lexer": "ipython3",
   "version": "3.8.3"
  }
 },
 "nbformat": 4,
 "nbformat_minor": 4
}
